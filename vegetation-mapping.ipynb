{
 "cells": [
  {
   "cell_type": "code",
   "execution_count": 1,
   "metadata": {},
   "outputs": [],
   "source": [
    "from mpl_toolkits.mplot3d import Axes3D\n",
    "from sklearn.preprocessing import StandardScaler\n",
    "from sklearn.model_selection import train_test_split\n",
    "from sklearn.model_selection import cross_val_score\n",
    "from sklearn.neighbors import KNeighborsClassifier\n",
    "from sklearn.neighbors import NearestCentroid\n",
    "from sklearn.metrics import classification_report\n",
    "from sklearn.linear_model import LogisticRegression\n",
    "from sklearn.metrics import accuracy_score, confusion_matrix, ConfusionMatrixDisplay\n",
    "from sklearn.neural_network import MLPClassifier\n",
    "from sklearn.preprocessing import StandardScaler\n",
    "from sklearn.cluster import KMeans\n",
    "from scipy.stats import mode\n",
    "import matplotlib.pyplot as plt # plotting\n",
    "import numpy as np # linear algebra\n",
    "import os # accessing directory structure\n",
    "import pandas as pd # data processing, CSV file I/O (e.g. pd.read_csv)"
   ]
  },
  {
   "cell_type": "code",
   "execution_count": 2,
   "metadata": {},
   "outputs": [
    {
     "name": "stdout",
     "output_type": "stream",
     "text": [
      "There are 197 rows and 104 columns\n"
     ]
    }
   ],
   "source": [
    "nRowsRead = 1000 # specify 'None' if want to read whole file\n",
    "# Kwongan_Alliance.csv may have more rows in reality, but we are only loading/previewing the first 1000 rows\n",
    "df2 = pd.read_csv('Kwongan/Kwongan_Alliance.csv', delimiter=',', nrows = nRowsRead)\n",
    "df2.dataframeName = 'Kwongan_Alliance.csv'\n",
    "nRow, nCol = df2.shape\n",
    "print(f'There are {nRow} rows and {nCol} columns')"
   ]
  },
  {
   "cell_type": "code",
   "execution_count": 3,
   "metadata": {},
   "outputs": [
    {
     "name": "stdout",
     "output_type": "stream",
     "text": [
      "There are 172 rows and 104 columns\n"
     ]
    }
   ],
   "source": [
    "nRowsRead = 1000 # specify 'None' if want to read whole file\n",
    "# Kwongan_Community.csv may have more rows in reality, but we are only loading/previewing the first 1000 rows\n",
    "df3 = pd.read_csv('Kwongan/Kwongan_Community.csv', delimiter=',', nrows = nRowsRead)\n",
    "df3.dataframeName = 'Kwongan_Community.csv'\n",
    "nRow, nCol = df3.shape\n",
    "print(f'There are {nRow} rows and {nCol} columns')"
   ]
  },
  {
   "cell_type": "code",
   "execution_count": 4,
   "metadata": {},
   "outputs": [
    {
     "name": "stdout",
     "output_type": "stream",
     "text": [
      "There are 131 rows and 91 columns\n"
     ]
    }
   ],
   "source": [
    "nRowsRead = 1000 # specify 'None' if want to read whole file\n",
    "# Kwongan_Community.csv may have more rows in reality, but we are only loading/previewing the first 1000 rows\n",
    "df4 = pd.read_csv('Woodland/Woodland_Order.csv', delimiter=',', nrows = nRowsRead)\n",
    "df4.dataframeName = 'Woodland_Order.csv'\n",
    "nRow, nCol = df4.shape\n",
    "print(f'There are {nRow} rows and {nCol} columns')"
   ]
  },
  {
   "cell_type": "code",
   "execution_count": 5,
   "metadata": {},
   "outputs": [
    {
     "name": "stdout",
     "output_type": "stream",
     "text": [
      "There are 156 rows and 91 columns\n"
     ]
    }
   ],
   "source": [
    "nRowsRead = 1000 # specify 'None' if want to read whole file\n",
    "# Kwongan_Community.csv may have more rows in reality, but we are only loading/previewing the first 1000 rows\n",
    "df5 = pd.read_csv('Woodland/Woodland_Alliance.csv', delimiter=',', nrows = nRowsRead)\n",
    "df5.dataframeName = 'Woodland_Alliance.csv'\n",
    "nRow, nCol = df5.shape\n",
    "print(f'There are {nRow} rows and {nCol} columns')"
   ]
  },
  {
   "cell_type": "code",
   "execution_count": 6,
   "metadata": {},
   "outputs": [
    {
     "name": "stdout",
     "output_type": "stream",
     "text": [
      "There are 148 rows and 93 columns\n"
     ]
    }
   ],
   "source": [
    "nRowsRead = 1000 # specify 'None' if want to read whole file\n",
    "# Kwongan_Community.csv may have more rows in reality, but we are only loading/previewing the first 1000 rows\n",
    "df6 = pd.read_csv('Woodland/Woodland_Community.csv', delimiter=',', nrows = nRowsRead)\n",
    "df6.dataframeName = 'Woodland_Community.csv'\n",
    "nRow, nCol = df6.shape\n",
    "print(f'There are {nRow} rows and {nCol} columns')"
   ]
  },
  {
   "cell_type": "code",
   "execution_count": 7,
   "metadata": {},
   "outputs": [],
   "source": [
    "# Distribution graphs (histogram/bar graph) of column data\n",
    "def plotPerColumnDistribution(df, nGraphShown, nGraphPerRow):\n",
    "    nunique = df.nunique()\n",
    "    df = df[[col for col in df if nunique[col] > 1 and nunique[col] < 50]] # For displaying purposes, pick columns that have between 1 and 50 unique values\n",
    "    nRow, nCol = df.shape\n",
    "    columnNames = list(df)\n",
    "    nGraphRow = (nCol + nGraphPerRow - 1) / nGraphPerRow\n",
    "    plt.figure(num = None, figsize = (6 * nGraphPerRow, 8 * nGraphRow), dpi = 80, facecolor = 'w', edgecolor = 'k')\n",
    "    for i in range(min(nCol, nGraphShown)):\n",
    "        plt.subplot(nGraphRow, nGraphPerRow, i + 1)\n",
    "        columnDf = df.iloc[:, i]\n",
    "        if (not np.issubdtype(type(columnDf.iloc[0]), np.number)):\n",
    "            valueCounts = columnDf.value_counts()\n",
    "            valueCounts.plot.bar()\n",
    "        else:\n",
    "            columnDf.hist()\n",
    "        plt.ylabel('counts')\n",
    "        plt.xticks(rotation = 90)\n",
    "        plt.title(f'{columnNames[i]} (column {i})')\n",
    "    plt.tight_layout(pad = 1.0, w_pad = 1.0, h_pad = 1.0)\n",
    "    plt.show()"
   ]
  },
  {
   "cell_type": "markdown",
   "metadata": {},
   "source": [
    "Load data and split into sets"
   ]
  },
  {
   "cell_type": "code",
   "execution_count": 8,
   "metadata": {},
   "outputs": [],
   "source": [
    "#format data\n",
    "seed = 1234\n",
    "y = df2['CLASS']\n",
    "X = df2.drop(\"CLASS\", axis=1)\n",
    "X_tr_va,X_te,y_tr_va,y_te = train_test_split(X, y, test_size=0.10, random_state=seed) #split into training/validation sets and test set\n",
    "\n",
    "#split training/validation sets into seperate sets\n",
    "X_tr,X_va,y_tr,y_va = train_test_split(X_tr_va, y_tr_va, test_size=0.25, random_state=seed) #split into training/validation sets and test set\n"
   ]
  },
  {
   "cell_type": "markdown",
   "metadata": {},
   "source": [
    "kNN Classifier"
   ]
  },
  {
   "cell_type": "code",
   "execution_count": 9,
   "metadata": {},
   "outputs": [],
   "source": [
    "k_vals = [1, 3, 7, 15, 31, 63] # 2^n - 1\n",
    "\n",
    "knn_tr_errors = np.zeros(len(k_vals))\n",
    "knn_va_errors = np.zeros(len(k_vals))"
   ]
  },
  {
   "cell_type": "code",
   "execution_count": 10,
   "metadata": {},
   "outputs": [
    {
     "name": "stdout",
     "output_type": "stream",
     "text": [
      "1: 1-nn\n",
      "fit completed\n",
      "tr err: 0.0\n",
      "va err: 0.5777777777777777\n",
      "2: 3-nn\n",
      "fit completed\n",
      "tr err: 0.33333333333333337\n",
      "va err: 0.5333333333333333\n",
      "3: 7-nn\n",
      "fit completed\n",
      "tr err: 0.43181818181818177\n",
      "va err: 0.6444444444444444\n",
      "4: 15-nn\n",
      "fit completed\n",
      "tr err: 0.48484848484848486\n",
      "va err: 0.6444444444444444\n",
      "5: 31-nn\n",
      "fit completed\n",
      "tr err: 0.49242424242424243\n",
      "va err: 0.6666666666666667\n",
      "6: 63-nn\n",
      "fit completed\n",
      "tr err: 0.5\n",
      "va err: 0.6666666666666667\n"
     ]
    }
   ],
   "source": [
    "for i, k in enumerate(k_vals):\n",
    "    print(f'{i+1}: {k}-nn')\n",
    "    knn = KNeighborsClassifier(n_neighbors=k)\n",
    "    knn.fit(X_tr, y_tr)\n",
    "    print('fit completed')\n",
    "\n",
    "    yhat_tr = knn.predict(X_tr)\n",
    "    knn_tr_errors[i] = 1.0 - accuracy_score(y_tr,yhat_tr)\n",
    "    print(f'tr err: {knn_tr_errors[i]}')\n",
    "\n",
    "    yhat_va = knn.predict(X_va)\n",
    "    knn_va_errors[i] = 1.0 - accuracy_score(y_va,yhat_va)\n",
    "    print(f'va err: {knn_va_errors[i]}')\n",
    "\n",
    "    # cm = confusion_matrix(y_va, yhat_va)\n",
    "    # disp = ConfusionMatrixDisplay(confusion_matrix = cm) \n",
    "    # disp.plot()"
   ]
  },
  {
   "cell_type": "markdown",
   "metadata": {},
   "source": [
    "Nearest Centroid Classifier"
   ]
  },
  {
   "cell_type": "code",
   "execution_count": 11,
   "metadata": {},
   "outputs": [
    {
     "name": "stdout",
     "output_type": "stream",
     "text": [
      "Training set accuracy : 37.878787878787875 %\n",
      "Test set accuracy : 25.0 %\n"
     ]
    }
   ],
   "source": [
    "model = NearestCentroid()\n",
    "model.fit(X_tr, y_tr.values.ravel())\n",
    "print(f\"Training set accuracy : {model.score(X_tr, y_tr) * 100} %\")\n",
    "print(f\"Test set accuracy : {model.score(X_te, y_te) * 100} %\")"
   ]
  },
  {
   "cell_type": "code",
   "execution_count": 12,
   "metadata": {},
   "outputs": [
    {
     "name": "stdout",
     "output_type": "stream",
     "text": [
      "CV average score: 0.33\n"
     ]
    },
    {
     "name": "stderr",
     "output_type": "stream",
     "text": [
      "/Users/dha/opt/anaconda3/lib/python3.9/site-packages/sklearn/model_selection/_split.py:666: UserWarning: The least populated class in y has only 4 members, which is less than n_splits=10.\n",
      "  warnings.warn((\"The least populated class in y has only %d\"\n"
     ]
    }
   ],
   "source": [
    "cv_scores = cross_val_score(model, X_tr, y_tr, cv=10)\n",
    "print(\"CV average score: %.2f\" % cv_scores.mean())"
   ]
  },
  {
   "cell_type": "code",
   "execution_count": 13,
   "metadata": {},
   "outputs": [
    {
     "name": "stdout",
     "output_type": "stream",
     "text": [
      "[[0 0 1 0 0 2]\n",
      " [2 1 0 0 0 0]\n",
      " [2 0 1 2 2 0]\n",
      " [0 0 0 1 2 1]\n",
      " [0 0 0 0 1 0]\n",
      " [1 0 0 0 0 1]]\n"
     ]
    }
   ],
   "source": [
    "y_pred = model.predict(X_te)\n",
    "\n",
    "cm = confusion_matrix(y_te, y_pred)\n",
    "print(cm)"
   ]
  },
  {
   "cell_type": "code",
   "execution_count": 14,
   "metadata": {},
   "outputs": [
    {
     "name": "stdout",
     "output_type": "stream",
     "text": [
      "Model Classification Report : \n",
      "              precision    recall  f1-score   support\n",
      "\n",
      "           a       0.00      0.00      0.00         3\n",
      "           b       1.00      0.33      0.50         3\n",
      "           c       0.50      0.14      0.22         7\n",
      "           d       0.33      0.25      0.29         4\n",
      "           e       0.20      1.00      0.33         1\n",
      "           f       0.25      0.50      0.33         2\n",
      "\n",
      "    accuracy                           0.25        20\n",
      "   macro avg       0.38      0.37      0.28        20\n",
      "weighted avg       0.43      0.25      0.26        20\n",
      "\n"
     ]
    }
   ],
   "source": [
    "print(f\"Model Classification Report : \\n{classification_report(y_te, y_pred)}\")"
   ]
  },
  {
   "cell_type": "markdown",
   "metadata": {},
   "source": [
    "KMeans Classifier"
   ]
  },
  {
   "cell_type": "code",
   "execution_count": 15,
   "metadata": {},
   "outputs": [
    {
     "data": {
      "image/png": "[encoded data removed]",
      "text/plain": [
       "<Figure size 432x288 with 1 Axes>"
      ]
     },
     "metadata": {
      "needs_background": "light"
     },
     "output_type": "display_data"
    }
   ],
   "source": [
    "# Finding optimal number of clusters\n",
    "# In the graph, we find the elbow to see the optimal number\n",
    "distortions = []\n",
    "for i in range(1, 20):\n",
    "    km = KMeans(\n",
    "        n_clusters=i, init='random',\n",
    "        n_init=10, max_iter=300,\n",
    "        tol=1e-04, random_state=0\n",
    "    )\n",
    "    km.fit(X_tr)\n",
    "    distortions.append(km.inertia_)\n",
    "\n",
    "# plot\n",
    "plt.plot(range(1, 20), distortions, marker='o')\n",
    "plt.xlabel('Number of clusters')\n",
    "plt.ylabel('Distortion')\n",
    "plt.show()\n",
    "\n",
    "# The optimal number looks to be 3"
   ]
  },
  {
   "cell_type": "code",
   "execution_count": 16,
   "metadata": {},
   "outputs": [],
   "source": [
    "number_of_clusters = 10\n",
    "kmeans = KMeans(n_clusters=number_of_clusters, init='random',\n",
    "        n_init=10, max_iter=300,\n",
    "        tol=1e-04,random_state=0).fit(X_tr)"
   ]
  },
  {
   "cell_type": "markdown",
   "metadata": {},
   "source": [
    "We are using Purity to evaluate KMeans. However, Purity does not penalize having many clusters. Additionally it doesn't work for imbalanced data. \n",
    "\n",
    "\"This measure doesn't penalize having many clusters, and more clusters will make it easier to produce a high purity. A purity score of 1 is always possible by putting each data point in its own cluster. Also, purity doesn't work well for imbalanced data, where even poorly performing clustering algorithms will give a high purity value. For example, if a size 1000 dataset consists of two classes, one containing 999 points and the other containing 1 point, then every possible partition will have a purity of at least 99.9%.\" quoted from Wikipedia (https://en.wikipedia.org/wiki/Cluster_analysis#External_evaluation)"
   ]
  },
  {
   "cell_type": "code",
   "execution_count": 17,
   "metadata": {},
   "outputs": [
    {
     "name": "stdout",
     "output_type": "stream",
     "text": [
      "10.0\n"
     ]
    }
   ],
   "source": [
    "# KMeans Evaluation\n",
    "# Purity - For each cluster, count the number of data points from the most common class in the cluster. Sum over all the clusters and divide by the total number of data points.  \n",
    "\n",
    "cluster_preds = kmeans.predict(X_va)\n",
    "\n",
    "# print(kmeans.predict(X_va))\n",
    "# print(y_va)\n",
    "\n",
    "total = 0\n",
    "for cluster in range(number_of_clusters):\n",
    "  classes_in_cluster = [y_va.iloc[1] for index in range(len(cluster_preds))]\n",
    "  most_common = mode(classes_in_cluster)\n",
    "  total = total + most_common[1][0]\n",
    "  \n",
    "purity = total/len(X_va)\n",
    "print(purity)"
   ]
  }
 ],
 "metadata": {
  "kernelspec": {
   "display_name": "Python 3 (ipykernel)",
   "language": "python",
   "name": "python3"
  },
  "language_info": {
   "codemirror_mode": {
    "name": "ipython",
    "version": 3
   },
   "file_extension": ".py",
   "mimetype": "text/x-python",
   "name": "python",
   "nbconvert_exporter": "python",
   "pygments_lexer": "ipython3",
   "version": "3.9.7"
  },
  "vscode": {
   "interpreter": {
    "hash": "0daa0697dc0c13aa4437b1ff3fd740f87b997f0ea2d5a350131901d676ecc55c"
   }
  }
 },
 "nbformat": 4,
 "nbformat_minor": 4
}
